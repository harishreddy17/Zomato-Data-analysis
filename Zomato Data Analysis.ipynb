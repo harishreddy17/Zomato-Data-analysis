{
 "cells": [
  {
   "cell_type": "code",
   "execution_count": 1,
   "id": "3f19aee1",
   "metadata": {},
   "outputs": [],
   "source": [
    "import numpy as np \n",
    "import pandas as pd \n",
    "import seaborn as sns\n",
    "import matplotlib.pyplot as plt"
   ]
  },
  {
   "cell_type": "code",
   "execution_count": 2,
   "id": "75bad93d",
   "metadata": {},
   "outputs": [],
   "source": [
    "import warnings\n",
    "warnings.filterwarnings('ignore')"
   ]
  },
  {
   "cell_type": "code",
   "execution_count": 3,
   "id": "5aee23a8",
   "metadata": {},
   "outputs": [
    {
     "data": {
      "text/html": [
       "<div>\n",
       "<style scoped>\n",
       "    .dataframe tbody tr th:only-of-type {\n",
       "        vertical-align: middle;\n",
       "    }\n",
       "\n",
       "    .dataframe tbody tr th {\n",
       "        vertical-align: top;\n",
       "    }\n",
       "\n",
       "    .dataframe thead th {\n",
       "        text-align: right;\n",
       "    }\n",
       "</style>\n",
       "<table border=\"1\" class=\"dataframe\">\n",
       "  <thead>\n",
       "    <tr style=\"text-align: right;\">\n",
       "      <th></th>\n",
       "      <th>link</th>\n",
       "      <th>rest_name</th>\n",
       "      <th>rest_type</th>\n",
       "      <th>loc</th>\n",
       "      <th>dine_rating</th>\n",
       "      <th>dine_reviews</th>\n",
       "      <th>delivery_rating</th>\n",
       "      <th>delivery_reviews</th>\n",
       "      <th>cuisine</th>\n",
       "      <th>Unnamed: 9</th>\n",
       "      <th>Cost (RS)</th>\n",
       "      <th>cost</th>\n",
       "      <th>liked</th>\n",
       "    </tr>\n",
       "  </thead>\n",
       "  <tbody>\n",
       "    <tr>\n",
       "      <th>0</th>\n",
       "      <td>https://www.zomato.com/pune/mix@36-the-westin-...</td>\n",
       "      <td>Mix@36 - The Westin\\r\\r\\n                     ...</td>\n",
       "      <td>Lounge</td>\n",
       "      <td>The Westin, Mundhwa</td>\n",
       "      <td>4.2</td>\n",
       "      <td>(707 Reviews)</td>\n",
       "      <td>NaN</td>\n",
       "      <td>NaN</td>\n",
       "      <td>North Indian,Continental,Asian,Finger Food,</td>\n",
       "      <td>NaN</td>\n",
       "      <td>4300</td>\n",
       "      <td>Rs. 4300</td>\n",
       "      <td>Cocktails, Chaat, Beer</td>\n",
       "    </tr>\n",
       "    <tr>\n",
       "      <th>1</th>\n",
       "      <td>https://www.zomato.com/pune/kangan-the-westin-...</td>\n",
       "      <td>Kangan - The Westin\\r\\r\\n                     ...</td>\n",
       "      <td>Fine Dining</td>\n",
       "      <td>The Westin, Mundhwa</td>\n",
       "      <td>4.1</td>\n",
       "      <td>(344 Reviews)</td>\n",
       "      <td>NaN</td>\n",
       "      <td>NaN</td>\n",
       "      <td>North Indian,Mughlai,</td>\n",
       "      <td>NaN</td>\n",
       "      <td>3500</td>\n",
       "      <td>Rs. 3500</td>\n",
       "      <td>Biryani, Veg Platter, Dal Makhani, Butter Chic...</td>\n",
       "    </tr>\n",
       "    <tr>\n",
       "      <th>2</th>\n",
       "      <td>https://www.zomato.com/pune/coriander-kitchen-...</td>\n",
       "      <td>Coriander Kitchen - Conrad Pune\\r\\r\\n         ...</td>\n",
       "      <td>Fine Dining</td>\n",
       "      <td>Conrad Pune, Bund Garden Road</td>\n",
       "      <td>4.5</td>\n",
       "      <td>(541 Reviews)</td>\n",
       "      <td>NaN</td>\n",
       "      <td>NaN</td>\n",
       "      <td>Mediterranean,Asian,North Indian,</td>\n",
       "      <td>NaN</td>\n",
       "      <td>3200</td>\n",
       "      <td>Rs. 3200</td>\n",
       "      <td>Pasta, Panipuri, Waffles, Pizza, Salad, Chaat,...</td>\n",
       "    </tr>\n",
       "    <tr>\n",
       "      <th>3</th>\n",
       "      <td>https://www.zomato.com/pune/the-market-the-wes...</td>\n",
       "      <td>The Market - The Westin\\r\\r\\n                 ...</td>\n",
       "      <td>Fine Dining</td>\n",
       "      <td>The Westin, Mundhwa</td>\n",
       "      <td>4.0</td>\n",
       "      <td>(55 Reviews)</td>\n",
       "      <td>NaN</td>\n",
       "      <td>NaN</td>\n",
       "      <td>Asian,European,North Indian,</td>\n",
       "      <td>NaN</td>\n",
       "      <td>3200</td>\n",
       "      <td>Rs. 3200</td>\n",
       "      <td>Vanilla Ice Cream, Chaat, Sushi</td>\n",
       "    </tr>\n",
       "    <tr>\n",
       "      <th>4</th>\n",
       "      <td>https://www.zomato.com/pune/vandaag-vivanta-pu...</td>\n",
       "      <td>Vandaag - Vivanta Pune\\r\\r\\n                  ...</td>\n",
       "      <td>Pub,Casual Dining</td>\n",
       "      <td>Vivanta Pune, Hinjewadi</td>\n",
       "      <td>3.9</td>\n",
       "      <td>(113 Reviews)</td>\n",
       "      <td>NaN</td>\n",
       "      <td>NaN</td>\n",
       "      <td>Finger Food,Continental,</td>\n",
       "      <td>NaN</td>\n",
       "      <td>3100</td>\n",
       "      <td>Rs. 3100</td>\n",
       "      <td>Cocktails, Beer, Peri Peri Chicken, Fish, Veg ...</td>\n",
       "    </tr>\n",
       "  </tbody>\n",
       "</table>\n",
       "</div>"
      ],
      "text/plain": [
       "                                                link  \\\n",
       "0  https://www.zomato.com/pune/mix@36-the-westin-...   \n",
       "1  https://www.zomato.com/pune/kangan-the-westin-...   \n",
       "2  https://www.zomato.com/pune/coriander-kitchen-...   \n",
       "3  https://www.zomato.com/pune/the-market-the-wes...   \n",
       "4  https://www.zomato.com/pune/vandaag-vivanta-pu...   \n",
       "\n",
       "                                           rest_name          rest_type  \\\n",
       "0  Mix@36 - The Westin\\r\\r\\n                     ...             Lounge   \n",
       "1  Kangan - The Westin\\r\\r\\n                     ...        Fine Dining   \n",
       "2  Coriander Kitchen - Conrad Pune\\r\\r\\n         ...        Fine Dining   \n",
       "3  The Market - The Westin\\r\\r\\n                 ...        Fine Dining   \n",
       "4  Vandaag - Vivanta Pune\\r\\r\\n                  ...  Pub,Casual Dining   \n",
       "\n",
       "                             loc  dine_rating   dine_reviews  delivery_rating  \\\n",
       "0            The Westin, Mundhwa          4.2  (707 Reviews)              NaN   \n",
       "1            The Westin, Mundhwa          4.1  (344 Reviews)              NaN   \n",
       "2  Conrad Pune, Bund Garden Road          4.5  (541 Reviews)              NaN   \n",
       "3            The Westin, Mundhwa          4.0   (55 Reviews)              NaN   \n",
       "4        Vivanta Pune, Hinjewadi          3.9  (113 Reviews)              NaN   \n",
       "\n",
       "  delivery_reviews                                      cuisine  Unnamed: 9  \\\n",
       "0              NaN  North Indian,Continental,Asian,Finger Food,         NaN   \n",
       "1              NaN                        North Indian,Mughlai,         NaN   \n",
       "2              NaN            Mediterranean,Asian,North Indian,         NaN   \n",
       "3              NaN                 Asian,European,North Indian,         NaN   \n",
       "4              NaN                     Finger Food,Continental,         NaN   \n",
       "\n",
       "   Cost (RS)      cost                                              liked  \n",
       "0       4300  Rs. 4300                             Cocktails, Chaat, Beer  \n",
       "1       3500  Rs. 3500  Biryani, Veg Platter, Dal Makhani, Butter Chic...  \n",
       "2       3200  Rs. 3200  Pasta, Panipuri, Waffles, Pizza, Salad, Chaat,...  \n",
       "3       3200  Rs. 3200                    Vanilla Ice Cream, Chaat, Sushi  \n",
       "4       3100  Rs. 3100  Cocktails, Beer, Peri Peri Chicken, Fish, Veg ...  "
      ]
     },
     "execution_count": 3,
     "metadata": {},
     "output_type": "execute_result"
    }
   ],
   "source": [
    "df=pd.read_csv(\"zomato_outlet_final (11).csv\")\n",
    "df.head()  "
   ]
  },
  {
   "cell_type": "code",
   "execution_count": 4,
   "id": "b7782b30",
   "metadata": {},
   "outputs": [
    {
     "name": "stdout",
     "output_type": "stream",
     "text": [
      "<class 'pandas.core.frame.DataFrame'>\n",
      "RangeIndex: 5433 entries, 0 to 5432\n",
      "Data columns (total 13 columns):\n",
      " #   Column            Non-Null Count  Dtype  \n",
      "---  ------            --------------  -----  \n",
      " 0   link              5433 non-null   object \n",
      " 1   rest_name         5433 non-null   object \n",
      " 2   rest_type         4336 non-null   object \n",
      " 3   loc               5433 non-null   object \n",
      " 4   dine_rating       5433 non-null   float64\n",
      " 5   dine_reviews      4829 non-null   object \n",
      " 6   delivery_rating   2539 non-null   float64\n",
      " 7   delivery_reviews  2539 non-null   object \n",
      " 8   cuisine           5433 non-null   object \n",
      " 9   Unnamed: 9        0 non-null      float64\n",
      " 10  Cost (RS)         5433 non-null   int64  \n",
      " 11  cost              5433 non-null   object \n",
      " 12  liked             2603 non-null   object \n",
      "dtypes: float64(3), int64(1), object(9)\n",
      "memory usage: 551.9+ KB\n"
     ]
    }
   ],
   "source": [
    "df.info()"
   ]
  },
  {
   "cell_type": "code",
   "execution_count": 5,
   "id": "be8032bc",
   "metadata": {},
   "outputs": [
    {
     "data": {
      "text/plain": [
       "(5433, 13)"
      ]
     },
     "execution_count": 5,
     "metadata": {},
     "output_type": "execute_result"
    }
   ],
   "source": [
    "df.shape"
   ]
  },
  {
   "cell_type": "code",
   "execution_count": 6,
   "id": "483d9883",
   "metadata": {},
   "outputs": [
    {
     "data": {
      "text/plain": [
       "Index(['link', 'rest_name', 'rest_type', 'loc', 'dine_rating', 'dine_reviews',\n",
       "       'delivery_rating', 'delivery_reviews', 'cuisine', 'Unnamed: 9',\n",
       "       'Cost (RS)', 'cost', 'liked'],\n",
       "      dtype='object')"
      ]
     },
     "execution_count": 6,
     "metadata": {},
     "output_type": "execute_result"
    }
   ],
   "source": [
    "df.columns"
   ]
  },
  {
   "cell_type": "code",
   "execution_count": 7,
   "id": "9cb65bab",
   "metadata": {},
   "outputs": [
    {
     "data": {
      "text/plain": [
       "Index(['rest_name', 'rest_type', 'loc', 'dine_rating', 'dine_reviews',\n",
       "       'delivery_rating', 'delivery_reviews', 'cuisine', 'Unnamed: 9',\n",
       "       'Cost (RS)', 'cost', 'liked'],\n",
       "      dtype='object')"
      ]
     },
     "execution_count": 7,
     "metadata": {},
     "output_type": "execute_result"
    }
   ],
   "source": [
    "df=df.iloc[:,1:]\n",
    "df.columns"
   ]
  },
  {
   "cell_type": "code",
   "execution_count": 8,
   "id": "9a243c22",
   "metadata": {},
   "outputs": [],
   "source": [
    "df=df.drop(\"Unnamed: 9\",axis=1) "
   ]
  },
  {
   "cell_type": "code",
   "execution_count": 9,
   "id": "c80e28d8",
   "metadata": {},
   "outputs": [
    {
     "data": {
      "text/plain": [
       "0                  Lounge\n",
       "1             Fine Dining\n",
       "2             Fine Dining\n",
       "3             Fine Dining\n",
       "4       Pub,Casual Dining\n",
       "              ...        \n",
       "5428        Casual Dining\n",
       "5429        Casual Dining\n",
       "5430        Casual Dining\n",
       "5431          Quick Bites\n",
       "5432        Casual Dining\n",
       "Name: rest_type, Length: 5433, dtype: object"
      ]
     },
     "execution_count": 9,
     "metadata": {},
     "output_type": "execute_result"
    }
   ],
   "source": [
    "df['rest_type']"
   ]
  },
  {
   "cell_type": "code",
   "execution_count": 10,
   "id": "9d646d15",
   "metadata": {},
   "outputs": [
    {
     "name": "stdout",
     "output_type": "stream",
     "text": [
      "Quick Bites              1546\n",
      "Casual Dining             939\n",
      "Bakery                    347\n",
      "Dessert Parlor            327\n",
      "Casual Dining,Bar         244\n",
      "Café                      212\n",
      "Bar,Casual Dining         126\n",
      "Bakery,Dessert Parlor      72\n",
      "Beverage Shop              61\n",
      "Sweet Shop                 59\n",
      "Name: rest_type, dtype: int64\n"
     ]
    }
   ],
   "source": [
    "rest_type_values=df['rest_type'].value_counts()[:10]\n",
    "print(rest_type_values)"
   ]
  },
  {
   "cell_type": "code",
   "execution_count": 11,
   "id": "b5ef9c31",
   "metadata": {},
   "outputs": [
    {
     "name": "stdout",
     "output_type": "stream",
     "text": [
      "Desserts,Bakery,              202\n",
      "Bakery,                       176\n",
      "Desserts,Ice Cream,           130\n",
      "Street Food,                  127\n",
      "Chinese,North Indian,         121\n",
      "North Indian,                 106\n",
      "Chinese,                      103\n",
      "Fast Food,Desserts,Bakery,     80\n",
      "Italian,Pizza,                 71\n",
      "Maharashtrian,                 69\n",
      "Name: cuisine, dtype: int64\n"
     ]
    }
   ],
   "source": [
    "cuisine_values=df['cuisine'].value_counts()[:10]\n",
    "print(cuisine_values)"
   ]
  },
  {
   "cell_type": "code",
   "execution_count": 12,
   "id": "bd541f7e",
   "metadata": {},
   "outputs": [
    {
     "data": {
      "text/plain": [
       "<AxesSubplot:xlabel='rest_type'>"
      ]
     },
     "execution_count": 12,
     "metadata": {},
     "output_type": "execute_result"
    },
    {
     "data": {
      "image/png": "[encoded data removed]",
      "text/plain": [
       "<Figure size 432x288 with 1 Axes>"
      ]
     },
     "metadata": {
      "needs_background": "light"
     },
     "output_type": "display_data"
    }
   ],
   "source": [
    "sns.barplot(rest_type_values,rest_type_values.index)"
   ]
  },
  {
   "cell_type": "code",
   "execution_count": 13,
   "id": "f91648cc",
   "metadata": {},
   "outputs": [
    {
     "data": {
      "text/plain": [
       "<AxesSubplot:xlabel='cuisine'>"
      ]
     },
     "execution_count": 13,
     "metadata": {},
     "output_type": "execute_result"
    },
    {
     "data": {
      "image/png": "[encoded data removed]",
      "text/plain": [
       "<Figure size 432x288 with 1 Axes>"
      ]
     },
     "metadata": {
      "needs_background": "light"
     },
     "output_type": "display_data"
    }
   ],
   "source": [
    "sns.barplot(cuisine_values,cuisine_values.index)"
   ]
  },
  {
   "cell_type": "code",
   "execution_count": 14,
   "id": "268bcb0b",
   "metadata": {},
   "outputs": [
    {
     "name": "stdout",
     "output_type": "stream",
     "text": [
      "Kothrud            273\n",
      "Viman Nagar        241\n",
      "Wakad              235\n",
      "Baner              234\n",
      "Hinjawadi          225\n",
      "Hadapsar           196\n",
      "Kharadi            194\n",
      "Sinhgad Road       147\n",
      "Pimple Saudagar    141\n",
      "Koregaon Park      130\n",
      "Name: loc, dtype: int64\n"
     ]
    }
   ],
   "source": [
    "total_locations=df['loc'].value_counts()[:10]\n",
    "print(total_locations)"
   ]
  },
  {
   "cell_type": "code",
   "execution_count": 15,
   "id": "071b6175",
   "metadata": {},
   "outputs": [
    {
     "data": {
      "text/plain": [
       "<AxesSubplot:xlabel='loc'>"
      ]
     },
     "execution_count": 15,
     "metadata": {},
     "output_type": "execute_result"
    },
    {
     "data": {
      "image/png": "[encoded data removed]",
      "text/plain": [
       "<Figure size 432x288 with 1 Axes>"
      ]
     },
     "metadata": {
      "needs_background": "light"
     },
     "output_type": "display_data"
    }
   ],
   "source": [
    "sns.barplot(total_locations,total_locations.index)"
   ]
  },
  {
   "cell_type": "code",
   "execution_count": 16,
   "id": "2a82a9c0",
   "metadata": {},
   "outputs": [
    {
     "data": {
      "text/plain": [
       "(array([ 604.,    0.,    0.,    0.,   63.,  405., 1006., 1893., 1291.,\n",
       "         171.]),\n",
       " array([0.  , 0.49, 0.98, 1.47, 1.96, 2.45, 2.94, 3.43, 3.92, 4.41, 4.9 ]),\n",
       " <BarContainer object of 10 artists>)"
      ]
     },
     "execution_count": 16,
     "metadata": {},
     "output_type": "execute_result"
    },
    {
     "data": {
      "image/png": "[encoded data removed]",
      "text/plain": [
       "<Figure size 432x288 with 1 Axes>"
      ]
     },
     "metadata": {
      "needs_background": "light"
     },
     "output_type": "display_data"
    }
   ],
   "source": [
    "df['dine_rating']\n",
    "plt.hist(df['dine_rating'])"
   ]
  },
  {
   "cell_type": "code",
   "execution_count": 17,
   "id": "b8b2a28e",
   "metadata": {},
   "outputs": [
    {
     "data": {
      "image/png": "[encoded data removed]",
      "text/plain": [
       "<Figure size 368x360 with 1 Axes>"
      ]
     },
     "metadata": {
      "needs_background": "light"
     },
     "output_type": "display_data"
    }
   ],
   "source": [
    "sns.FacetGrid(df, size=5).map(sns.distplot, \"dine_rating\",kde=\"True\").add_legend()  \n",
    "plt.show()"
   ]
  },
  {
   "cell_type": "code",
   "execution_count": 18,
   "id": "cde2f4df",
   "metadata": {},
   "outputs": [
    {
     "name": "stdout",
     "output_type": "stream",
     "text": [
      "1070\n"
     ]
    }
   ],
   "source": [
    "top_10_ratings=df[df['dine_rating']>4.0]\n",
    "print(len(top_10_ratings['loc']))"
   ]
  },
  {
   "cell_type": "code",
   "execution_count": 19,
   "id": "9adf5c47",
   "metadata": {},
   "outputs": [
    {
     "name": "stdout",
     "output_type": "stream",
     "text": [
      "Index(['Kothrud', 'Viman Nagar', 'Wakad', 'Baner', 'Hinjawadi', 'Hadapsar',\n",
      "       'Kharadi', 'Sinhgad Road', 'Pimple Saudagar', 'Koregaon Park'],\n",
      "      dtype='object')\n"
     ]
    }
   ],
   "source": [
    "total_locations=df['loc'].value_counts()[:10]\n",
    "total_locations\n",
    "\n",
    "places=total_locations.index\n",
    "print(places)"
   ]
  },
  {
   "cell_type": "code",
   "execution_count": 20,
   "id": "622ba5ce",
   "metadata": {},
   "outputs": [
    {
     "data": {
      "text/plain": [
       "250"
      ]
     },
     "execution_count": 20,
     "metadata": {},
     "output_type": "execute_result"
    }
   ],
   "source": [
    "df.duplicated().sum()"
   ]
  },
  {
   "cell_type": "code",
   "execution_count": 21,
   "id": "85376ff6",
   "metadata": {},
   "outputs": [],
   "source": [
    "df=df.drop_duplicates()"
   ]
  },
  {
   "cell_type": "code",
   "execution_count": 22,
   "id": "e7a9de68",
   "metadata": {},
   "outputs": [
    {
     "data": {
      "text/plain": [
       "0"
      ]
     },
     "execution_count": 22,
     "metadata": {},
     "output_type": "execute_result"
    }
   ],
   "source": [
    "df.duplicated().sum()"
   ]
  },
  {
   "cell_type": "code",
   "execution_count": 23,
   "id": "8f518f7b",
   "metadata": {},
   "outputs": [
    {
     "data": {
      "text/plain": [
       "(-1.106390864913637,\n",
       " 1.1003043269006494,\n",
       " -1.1031880560866696,\n",
       " 1.1037417655017339)"
      ]
     },
     "execution_count": 23,
     "metadata": {},
     "output_type": "execute_result"
    },
    {
     "data": {
      "image/png": "[encoded data removed]",
      "text/plain": [
       "<Figure size 432x288 with 1 Axes>"
      ]
     },
     "metadata": {},
     "output_type": "display_data"
    }
   ],
   "source": [
    "labels=places\n",
    "sizes=total_locations.values\n",
    "\n",
    "plt.pie(sizes, labels=labels, autopct='%1.1f%%',shadow=True)\n",
    "plt.axis('equal')"
   ]
  },
  {
   "cell_type": "code",
   "execution_count": 24,
   "id": "90cea9fb",
   "metadata": {},
   "outputs": [
    {
     "data": {
      "text/plain": [
       "0       North Indian,Continental,Asian,Finger Food,\n",
       "1                             North Indian,Mughlai,\n",
       "2                 Mediterranean,Asian,North Indian,\n",
       "3                      Asian,European,North Indian,\n",
       "4                          Finger Food,Continental,\n",
       "                           ...                     \n",
       "5428             South Indian,Chinese,North Indian,\n",
       "5429                               Mughlai,Iranian,\n",
       "5430                Chinese,Fast Food,North Indian,\n",
       "5431       Beverages,Chinese,Street Food,Fast Food,\n",
       "5432                                  Thai,Chinese,\n",
       "Name: cuisine, Length: 5183, dtype: object"
      ]
     },
     "execution_count": 24,
     "metadata": {},
     "output_type": "execute_result"
    }
   ],
   "source": [
    "df['cuisine']"
   ]
  },
  {
   "cell_type": "code",
   "execution_count": 25,
   "id": "4d83af3f",
   "metadata": {},
   "outputs": [
    {
     "data": {
      "text/plain": [
       "array(['North Indian,Continental,Asian,Finger Food,',\n",
       "       'North Indian,Mughlai,', 'Mediterranean,Asian,North Indian,',\n",
       "       'Asian,European,North Indian,', 'Finger Food,Continental,'],\n",
       "      dtype=object)"
      ]
     },
     "execution_count": 25,
     "metadata": {},
     "output_type": "execute_result"
    }
   ],
   "source": [
    "df['cuisine'].unique()[:5]"
   ]
  },
  {
   "cell_type": "code",
   "execution_count": 26,
   "id": "8c7ef92d",
   "metadata": {},
   "outputs": [
    {
     "name": "stdout",
     "output_type": "stream",
     "text": [
      "['North Indian', 'Continental', 'Asian', 'Finger Food', '', 'Mughlai', 'Mediterranean', 'European', 'Salad', 'Malaysian', 'Vietnamese', 'Thai', 'Chinese', 'Japanese', 'Biryani', 'Kebab', 'Italian', 'Bar Food', 'Seafood', 'Fast Food', 'Healthy Food', 'Mexican', 'Desserts', 'American', 'Greek', 'Maharashtrian', 'Beverages', 'South American', 'Steak', 'Brazilian', 'Malwani', 'South Indian', 'Chettinad', 'Kerala', 'Mangalorean', 'Pizza', 'Iranian', 'Goan', 'Charcoal Chicken', 'Cafe', 'Modern Indian', 'Korean', 'Sushi', 'Cantonese', 'Momos', 'Bakery', 'Tea', 'BBQ', 'Mongolian', 'Tex-Mex', 'Lebanese', 'Street Food', 'Cuisine Varies', 'Sandwich', 'Middle Eastern', 'African', 'Ethiopian', 'Burger', 'Hyderabadi', 'Parsi', 'German', 'Konkan', 'Rolls', 'Singaporean', 'Indonesian', 'Rajasthani', 'Lucknowi', 'Burmese', 'Bengali', 'Ice Cream', 'Kashmiri', 'Arabian', 'Gujarati', 'French', 'Tibetan', 'Coffee', 'Mithai', 'Bihari', 'Wraps', 'Odia', 'Juices', 'Raw Meats', 'Turkish', 'Frozen Yogurt', 'Awadhi', 'Afghan', 'Paan', 'Assamese', 'Andhra', 'Panini', 'Mishti', 'Naga']\n",
      "92\n"
     ]
    }
   ],
   "source": [
    "cuisine=[]\n",
    "for i in df['cuisine']:\n",
    "    for j in i.split(\",\"):\n",
    "        if j not in cuisine:\n",
    "            cuisine.append(j)\n",
    "print(cuisine)\n",
    "print(len(cuisine))"
   ]
  },
  {
   "cell_type": "code",
   "execution_count": 27,
   "id": "ab549832",
   "metadata": {},
   "outputs": [
    {
     "name": "stdout",
     "output_type": "stream",
     "text": [
      "2057\n"
     ]
    }
   ],
   "source": [
    "a=[]\n",
    "b=[]\n",
    "for i in df['cuisine']:\n",
    "    a=i.split(',')\n",
    "    b.append(a)\n",
    "    \n",
    "count=0\n",
    "for i in b:\n",
    "    for j in i:\n",
    "        if j==\"North Indian\":\n",
    "            count=count+1\n",
    "print(count)"
   ]
  },
  {
   "cell_type": "code",
   "execution_count": 28,
   "id": "c2a42b58",
   "metadata": {},
   "outputs": [
    {
     "name": "stdout",
     "output_type": "stream",
     "text": [
      "566\n"
     ]
    }
   ],
   "source": [
    "count=0\n",
    "for i in df['cuisine']:\n",
    "    for j in i.split(\",\"):\n",
    "        if j=='Biryani':\n",
    "            count=count+1  \n",
    "print(count)\n"
   ]
  },
  {
   "cell_type": "code",
   "execution_count": 29,
   "id": "b09b916e",
   "metadata": {},
   "outputs": [
    {
     "data": {
      "text/plain": [
       "2774"
      ]
     },
     "execution_count": 29,
     "metadata": {},
     "output_type": "execute_result"
    }
   ],
   "source": [
    "df['delivery_rating'].isnull().sum()"
   ]
  },
  {
   "cell_type": "code",
   "execution_count": 30,
   "id": "cab1bad9",
   "metadata": {},
   "outputs": [],
   "source": [
    "df['delivery_rating'].dropna(inplace=True)"
   ]
  },
  {
   "cell_type": "code",
   "execution_count": 31,
   "id": "26b4efe4",
   "metadata": {},
   "outputs": [
    {
     "data": {
      "text/plain": [
       "0       NaN\n",
       "1       NaN\n",
       "2       NaN\n",
       "3       NaN\n",
       "4       NaN\n",
       "       ... \n",
       "5428    3.5\n",
       "5429    NaN\n",
       "5430    NaN\n",
       "5431    3.1\n",
       "5432    3.8\n",
       "Name: delivery_rating, Length: 5183, dtype: float64"
      ]
     },
     "execution_count": 31,
     "metadata": {},
     "output_type": "execute_result"
    }
   ],
   "source": [
    "df['delivery_rating']"
   ]
  },
  {
   "cell_type": "code",
   "execution_count": 32,
   "id": "8bfdb2fa",
   "metadata": {},
   "outputs": [
    {
     "data": {
      "text/plain": [
       "(array([  2.,   0.,  19.,  74., 146., 377., 938., 641., 190.,  22.]),\n",
       " array([2.  , 2.28, 2.56, 2.84, 3.12, 3.4 , 3.68, 3.96, 4.24, 4.52, 4.8 ]),\n",
       " <BarContainer object of 10 artists>)"
      ]
     },
     "execution_count": 32,
     "metadata": {},
     "output_type": "execute_result"
    },
    {
     "data": {
      "image/png": "[encoded data removed]",
      "text/plain": [
       "<Figure size 432x288 with 1 Axes>"
      ]
     },
     "metadata": {
      "needs_background": "light"
     },
     "output_type": "display_data"
    }
   ],
   "source": [
    "plt.hist(df['delivery_rating'])"
   ]
  },
  {
   "cell_type": "code",
   "execution_count": 33,
   "id": "dca75492",
   "metadata": {},
   "outputs": [
    {
     "data": {
      "image/png": "[encoded data removed]",
      "text/plain": [
       "<Figure size 368x360 with 1 Axes>"
      ]
     },
     "metadata": {
      "needs_background": "light"
     },
     "output_type": "display_data"
    }
   ],
   "source": [
    "sns.FacetGrid(df, size=5).map(sns.distplot, \"delivery_rating\").add_legend() #distribution plot\n",
    "plt.show()"
   ]
  },
  {
   "cell_type": "code",
   "execution_count": 34,
   "id": "5d4a2c82",
   "metadata": {},
   "outputs": [
    {
     "data": {
      "text/plain": [
       "<AxesSubplot:xlabel='delivery_rating'>"
      ]
     },
     "execution_count": 34,
     "metadata": {},
     "output_type": "execute_result"
    },
    {
     "data": {
      "image/png": "[encoded data removed]",
      "text/plain": [
       "<Figure size 432x288 with 1 Axes>"
      ]
     },
     "metadata": {
      "needs_background": "light"
     },
     "output_type": "display_data"
    }
   ],
   "source": [
    "sns.boxplot(df[\"delivery_rating\"])"
   ]
  },
  {
   "cell_type": "code",
   "execution_count": 35,
   "id": "5047e5f7",
   "metadata": {},
   "outputs": [
    {
     "data": {
      "text/plain": [
       "<AxesSubplot:xlabel='dine_rating'>"
      ]
     },
     "execution_count": 35,
     "metadata": {},
     "output_type": "execute_result"
    },
    {
     "data": {
      "image/png": "[encoded data removed]",
      "text/plain": [
       "<Figure size 432x288 with 1 Axes>"
      ]
     },
     "metadata": {
      "needs_background": "light"
     },
     "output_type": "display_data"
    }
   ],
   "source": [
    "sns.violinplot(df['dine_rating'])"
   ]
  },
  {
   "cell_type": "code",
   "execution_count": 36,
   "id": "399e6c55",
   "metadata": {},
   "outputs": [
    {
     "data": {
      "text/plain": [
       "<AxesSubplot:xlabel='Cost (RS)'>"
      ]
     },
     "execution_count": 36,
     "metadata": {},
     "output_type": "execute_result"
    },
    {
     "data": {
      "image/png": "[encoded data removed]",
      "text/plain": [
       "<Figure size 432x288 with 1 Axes>"
      ]
     },
     "metadata": {
      "needs_background": "light"
     },
     "output_type": "display_data"
    }
   ],
   "source": [
    "sns.boxplot(df['Cost (RS)'])"
   ]
  },
  {
   "cell_type": "code",
   "execution_count": 37,
   "id": "567dc668",
   "metadata": {},
   "outputs": [
    {
     "data": {
      "text/plain": [
       "<AxesSubplot:xlabel='Cost (RS)'>"
      ]
     },
     "execution_count": 37,
     "metadata": {},
     "output_type": "execute_result"
    },
    {
     "data": {
      "image/png": "[encoded data removed]",
      "text/plain": [
       "<Figure size 432x288 with 1 Axes>"
      ]
     },
     "metadata": {
      "needs_background": "light"
     },
     "output_type": "display_data"
    }
   ],
   "source": [
    "sns.violinplot(df['Cost (RS)'])"
   ]
  },
  {
   "cell_type": "code",
   "execution_count": 38,
   "id": "0dcbffa2",
   "metadata": {},
   "outputs": [
    {
     "data": {
      "text/plain": [
       "(array([2.717e+03, 1.404e+03, 5.750e+02, 3.060e+02, 1.200e+02, 3.400e+01,\n",
       "        2.000e+01, 5.000e+00, 1.000e+00, 1.000e+00]),\n",
       " array([  50.,  475.,  900., 1325., 1750., 2175., 2600., 3025., 3450.,\n",
       "        3875., 4300.]),\n",
       " <BarContainer object of 10 artists>)"
      ]
     },
     "execution_count": 38,
     "metadata": {},
     "output_type": "execute_result"
    },
    {
     "data": {
      "image/png": "[encoded data removed]",
      "text/plain": [
       "<Figure size 432x288 with 1 Axes>"
      ]
     },
     "metadata": {
      "needs_background": "light"
     },
     "output_type": "display_data"
    }
   ],
   "source": [
    "plt.hist(df['Cost (RS)'])"
   ]
  },
  {
   "cell_type": "code",
   "execution_count": 39,
   "id": "40193e3a",
   "metadata": {},
   "outputs": [
    {
     "data": {
      "image/png": "[encoded data removed]",
      "text/plain": [
       "<Figure size 368x360 with 1 Axes>"
      ]
     },
     "metadata": {
      "needs_background": "light"
     },
     "output_type": "display_data"
    }
   ],
   "source": [
    "sns.FacetGrid(df, size=5).map(sns.distplot, \"Cost (RS)\").add_legend()\n",
    "plt.show()"
   ]
  },
  {
   "cell_type": "code",
   "execution_count": 40,
   "id": "c69d388f",
   "metadata": {},
   "outputs": [
    {
     "data": {
      "text/html": [
       "<div>\n",
       "<style scoped>\n",
       "    .dataframe tbody tr th:only-of-type {\n",
       "        vertical-align: middle;\n",
       "    }\n",
       "\n",
       "    .dataframe tbody tr th {\n",
       "        vertical-align: top;\n",
       "    }\n",
       "\n",
       "    .dataframe thead th {\n",
       "        text-align: right;\n",
       "    }\n",
       "</style>\n",
       "<table border=\"1\" class=\"dataframe\">\n",
       "  <thead>\n",
       "    <tr style=\"text-align: right;\">\n",
       "      <th></th>\n",
       "      <th>rest_name</th>\n",
       "      <th>rest_type</th>\n",
       "      <th>loc</th>\n",
       "      <th>dine_rating</th>\n",
       "      <th>dine_reviews</th>\n",
       "      <th>delivery_rating</th>\n",
       "      <th>delivery_reviews</th>\n",
       "      <th>cuisine</th>\n",
       "      <th>Cost (RS)</th>\n",
       "      <th>cost</th>\n",
       "      <th>liked</th>\n",
       "    </tr>\n",
       "  </thead>\n",
       "  <tbody>\n",
       "    <tr>\n",
       "      <th>49</th>\n",
       "      <td>Savya Rasa\\r\\r\\n                              ...</td>\n",
       "      <td>Fine Dining,Bar</td>\n",
       "      <td>Koregaon Park</td>\n",
       "      <td>4.9</td>\n",
       "      <td>-1,245</td>\n",
       "      <td>4.1</td>\n",
       "      <td>-223</td>\n",
       "      <td>Chettinad,Kerala,Mangalorean,South Indian,</td>\n",
       "      <td>2100</td>\n",
       "      <td>Rs. 2100</td>\n",
       "      <td>Appam, Neer Dosa, Cocktails, Fish, Vegetable S...</td>\n",
       "    </tr>\n",
       "    <tr>\n",
       "      <th>137</th>\n",
       "      <td>Gong\\r\\r\\n</td>\n",
       "      <td>Casual Dining</td>\n",
       "      <td>Balewadi High Street, Baner</td>\n",
       "      <td>4.9</td>\n",
       "      <td>-1,727</td>\n",
       "      <td>4.4</td>\n",
       "      <td>-602</td>\n",
       "      <td>Sushi,Thai,Asian,</td>\n",
       "      <td>1700</td>\n",
       "      <td>Rs. 1700</td>\n",
       "      <td>Dumplings, Chocolate Dome, Cocktails, Ramen, K...</td>\n",
       "    </tr>\n",
       "    <tr>\n",
       "      <th>382</th>\n",
       "      <td>Santè Spa Cuisine\\r\\r\\n                       ...</td>\n",
       "      <td>Casual Dining</td>\n",
       "      <td>Koregaon Park</td>\n",
       "      <td>4.9</td>\n",
       "      <td>-1,396</td>\n",
       "      <td>3.9</td>\n",
       "      <td>-89</td>\n",
       "      <td>Pizza,Mediterranean,Healthy Food,Continental,S...</td>\n",
       "      <td>1300</td>\n",
       "      <td>Rs. 1300</td>\n",
       "      <td>Salad, Farm Pizza, Healthy Veg Food, Spinach H...</td>\n",
       "    </tr>\n",
       "    <tr>\n",
       "      <th>652</th>\n",
       "      <td>Le Plaisir\\r\\r\\n                              ...</td>\n",
       "      <td>Café</td>\n",
       "      <td>Deccan Gymkhana</td>\n",
       "      <td>4.9</td>\n",
       "      <td>-4,766</td>\n",
       "      <td>4.4</td>\n",
       "      <td>-2,672</td>\n",
       "      <td>Cafe,Continental,Italian,European,</td>\n",
       "      <td>1000</td>\n",
       "      <td>Rs. 1000</td>\n",
       "      <td>Pasta, Sandwich, Macaroon, Cheesecake, Salad, ...</td>\n",
       "    </tr>\n",
       "    <tr>\n",
       "      <th>778</th>\n",
       "      <td>Le Plaisir\\r\\n                                ...</td>\n",
       "      <td>Café</td>\n",
       "      <td>Deccan Gymkhana</td>\n",
       "      <td>4.9</td>\n",
       "      <td>-4,766</td>\n",
       "      <td>4.4</td>\n",
       "      <td>-2,670</td>\n",
       "      <td>Cafe,Continental,Italian,European,</td>\n",
       "      <td>1000</td>\n",
       "      <td>Rs. 1000</td>\n",
       "      <td>Pasta, Sandwich, Macaroon, Cheesecake, Salad, ...</td>\n",
       "    </tr>\n",
       "    <tr>\n",
       "      <th>1044</th>\n",
       "      <td>The French Window Patisserie\\r\\n              ...</td>\n",
       "      <td>Café,Dessert Parlor</td>\n",
       "      <td>Koregaon Park</td>\n",
       "      <td>4.9</td>\n",
       "      <td>-1,581</td>\n",
       "      <td>4.5</td>\n",
       "      <td>-430</td>\n",
       "      <td>European,Bakery,French,Desserts,Cafe,</td>\n",
       "      <td>600</td>\n",
       "      <td>Rs. 600</td>\n",
       "      <td>Coffee, Hot Chocolate, Tiramisu, Sandwich, Che...</td>\n",
       "    </tr>\n",
       "    <tr>\n",
       "      <th>1381</th>\n",
       "      <td>Gong\\r\\n</td>\n",
       "      <td>Casual Dining</td>\n",
       "      <td>Balewadi High Street, Baner</td>\n",
       "      <td>4.9</td>\n",
       "      <td>-1,727</td>\n",
       "      <td>4.4</td>\n",
       "      <td>-602</td>\n",
       "      <td>Sushi,Thai,Asian,</td>\n",
       "      <td>1700</td>\n",
       "      <td>Rs. 1700</td>\n",
       "      <td>Dumplings, Chocolate Dome, Cocktails, Ramen, K...</td>\n",
       "    </tr>\n",
       "    <tr>\n",
       "      <th>2099</th>\n",
       "      <td>Santè Spa Cuisine\\r\\n                         ...</td>\n",
       "      <td>Casual Dining</td>\n",
       "      <td>Koregaon Park</td>\n",
       "      <td>4.9</td>\n",
       "      <td>-1,396</td>\n",
       "      <td>3.9</td>\n",
       "      <td>-89</td>\n",
       "      <td>Pizza,Mediterranean,Healthy Food,Continental,S...</td>\n",
       "      <td>1300</td>\n",
       "      <td>Rs. 1300</td>\n",
       "      <td>Salad, Farm Pizza, Healthy Veg Food, Spinach H...</td>\n",
       "    </tr>\n",
       "    <tr>\n",
       "      <th>2134</th>\n",
       "      <td>Le Flamington\\r\\n                             ...</td>\n",
       "      <td>Café,Bakery</td>\n",
       "      <td>Kalyani Nagar</td>\n",
       "      <td>4.9</td>\n",
       "      <td>(614 Reviews)</td>\n",
       "      <td>NaN</td>\n",
       "      <td>NaN</td>\n",
       "      <td>European,Bakery,</td>\n",
       "      <td>600</td>\n",
       "      <td>Rs. 600</td>\n",
       "      <td>Coffee, Sandwich, Hot Chocolate, Cappuccino, C...</td>\n",
       "    </tr>\n",
       "    <tr>\n",
       "      <th>4683</th>\n",
       "      <td>Savya Rasa\\r\\n                                ...</td>\n",
       "      <td>Fine Dining,Bar</td>\n",
       "      <td>Koregaon Park</td>\n",
       "      <td>4.9</td>\n",
       "      <td>-1,245</td>\n",
       "      <td>4.1</td>\n",
       "      <td>-223</td>\n",
       "      <td>Chettinad,Kerala,Mangalorean,South Indian,</td>\n",
       "      <td>2100</td>\n",
       "      <td>Rs. 2100</td>\n",
       "      <td>Appam, Neer Dosa, Cocktails, Fish, Vegetable S...</td>\n",
       "    </tr>\n",
       "  </tbody>\n",
       "</table>\n",
       "</div>"
      ],
      "text/plain": [
       "                                              rest_name            rest_type  \\\n",
       "49    Savya Rasa\\r\\r\\n                              ...      Fine Dining,Bar   \n",
       "137      Gong\\r\\r\\n                                            Casual Dining   \n",
       "382   Santè Spa Cuisine\\r\\r\\n                       ...        Casual Dining   \n",
       "652   Le Plaisir\\r\\r\\n                              ...                 Café   \n",
       "778   Le Plaisir\\r\\n                                ...                 Café   \n",
       "1044  The French Window Patisserie\\r\\n              ...  Café,Dessert Parlor   \n",
       "1381       Gong\\r\\n                                            Casual Dining   \n",
       "2099  Santè Spa Cuisine\\r\\n                         ...        Casual Dining   \n",
       "2134  Le Flamington\\r\\n                             ...          Café,Bakery   \n",
       "4683  Savya Rasa\\r\\n                                ...      Fine Dining,Bar   \n",
       "\n",
       "                              loc  dine_rating   dine_reviews  \\\n",
       "49                  Koregaon Park          4.9         -1,245   \n",
       "137   Balewadi High Street, Baner          4.9         -1,727   \n",
       "382                 Koregaon Park          4.9         -1,396   \n",
       "652               Deccan Gymkhana          4.9         -4,766   \n",
       "778               Deccan Gymkhana          4.9         -4,766   \n",
       "1044                Koregaon Park          4.9         -1,581   \n",
       "1381  Balewadi High Street, Baner          4.9         -1,727   \n",
       "2099                Koregaon Park          4.9         -1,396   \n",
       "2134                Kalyani Nagar          4.9  (614 Reviews)   \n",
       "4683                Koregaon Park          4.9         -1,245   \n",
       "\n",
       "      delivery_rating delivery_reviews  \\\n",
       "49                4.1             -223   \n",
       "137               4.4             -602   \n",
       "382               3.9              -89   \n",
       "652               4.4           -2,672   \n",
       "778               4.4           -2,670   \n",
       "1044              4.5             -430   \n",
       "1381              4.4             -602   \n",
       "2099              3.9              -89   \n",
       "2134              NaN              NaN   \n",
       "4683              4.1             -223   \n",
       "\n",
       "                                                cuisine  Cost (RS)      cost  \\\n",
       "49           Chettinad,Kerala,Mangalorean,South Indian,       2100  Rs. 2100   \n",
       "137                                   Sushi,Thai,Asian,       1700  Rs. 1700   \n",
       "382   Pizza,Mediterranean,Healthy Food,Continental,S...       1300  Rs. 1300   \n",
       "652                  Cafe,Continental,Italian,European,       1000  Rs. 1000   \n",
       "778                  Cafe,Continental,Italian,European,       1000  Rs. 1000   \n",
       "1044              European,Bakery,French,Desserts,Cafe,        600   Rs. 600   \n",
       "1381                                  Sushi,Thai,Asian,       1700  Rs. 1700   \n",
       "2099  Pizza,Mediterranean,Healthy Food,Continental,S...       1300  Rs. 1300   \n",
       "2134                                   European,Bakery,        600   Rs. 600   \n",
       "4683         Chettinad,Kerala,Mangalorean,South Indian,       2100  Rs. 2100   \n",
       "\n",
       "                                                  liked  \n",
       "49    Appam, Neer Dosa, Cocktails, Fish, Vegetable S...  \n",
       "137   Dumplings, Chocolate Dome, Cocktails, Ramen, K...  \n",
       "382   Salad, Farm Pizza, Healthy Veg Food, Spinach H...  \n",
       "652   Pasta, Sandwich, Macaroon, Cheesecake, Salad, ...  \n",
       "778   Pasta, Sandwich, Macaroon, Cheesecake, Salad, ...  \n",
       "1044  Coffee, Hot Chocolate, Tiramisu, Sandwich, Che...  \n",
       "1381  Dumplings, Chocolate Dome, Cocktails, Ramen, K...  \n",
       "2099  Salad, Farm Pizza, Healthy Veg Food, Spinach H...  \n",
       "2134  Coffee, Sandwich, Hot Chocolate, Cappuccino, C...  \n",
       "4683  Appam, Neer Dosa, Cocktails, Fish, Vegetable S...  "
      ]
     },
     "execution_count": 40,
     "metadata": {},
     "output_type": "execute_result"
    }
   ],
   "source": [
    "rating_bw=df[(df['dine_rating']>4.8) & (df['dine_rating']<=5)]\n",
    "rating_bw"
   ]
  }
 ],
 "metadata": {
  "kernelspec": {
   "display_name": "Python 3 (ipykernel)",
   "language": "python",
   "name": "python3"
  },
  "language_info": {
   "codemirror_mode": {
    "name": "ipython",
    "version": 3
   },
   "file_extension": ".py",
   "mimetype": "text/x-python",
   "name": "python",
   "nbconvert_exporter": "python",
   "pygments_lexer": "ipython3",
   "version": "3.10.4"
  }
 },
 "nbformat": 4,
 "nbformat_minor": 5
}
